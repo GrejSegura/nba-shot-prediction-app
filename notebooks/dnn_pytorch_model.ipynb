{
 "cells": [
  {
   "cell_type": "code",
   "execution_count": 34,
   "metadata": {},
   "outputs": [],
   "source": [
    "import pandas as pd\n",
    "import numpy as np\n",
    "import os\n",
    "from sklearn import metrics\n",
    "from sklearn import preprocessing\n",
    "from sklearn.model_selection import train_test_split\n",
    "\n",
    "from torch import nn, optim\n",
    "from torch.autograd import Variable\n",
    "import torch\n",
    "import torch.nn.functional as F\n",
    "import torch.utils.data\n",
    "import torch.optim as optim\n",
    "\n",
    "from sklearn.model_selection import train_test_split\n",
    "from sklearn import metrics\n",
    "from sklearn import preprocessing"
   ]
  },
  {
   "cell_type": "code",
   "execution_count": 36,
   "metadata": {},
   "outputs": [
    {
     "data": {
      "text/plain": [
       "0    52642\n",
       "1    43409\n",
       "Name: target, dtype: int64"
      ]
     },
     "execution_count": 36,
     "metadata": {},
     "output_type": "execute_result"
    }
   ],
   "source": [
    "os.chdir(r'C:/Users/gbsegura/Documents/AMPD-Projects/archive/nba-shots-streamlit-app') \n",
    "\n",
    "X_train = pd.read_pickle('./data/X_train.pkl')\n",
    "Y_train = pd.read_pickle('./data/Y_train.pkl')\n",
    "x_test = pd.read_pickle('./data/x_test.pkl')\n",
    "y_test = pd.read_pickle('./data/y_test.pkl')\n",
    "\n",
    "data = pd.concat([X_train, Y_train], axis=1)\n",
    "data = data.rename(columns={'labels':'target'})\n",
    "\n",
    "data.target.value_counts()"
   ]
  },
  {
   "cell_type": "code",
   "execution_count": 37,
   "metadata": {},
   "outputs": [],
   "source": [
    "X = data.drop(['target'], axis=1)\n",
    "y = data.target"
   ]
  },
  {
   "cell_type": "code",
   "execution_count": 38,
   "metadata": {},
   "outputs": [],
   "source": [
    "def convert_to_tensor(X, Y, x_test, y_test):\n",
    "    # making sure the training will use gpu\n",
    "    #     torch.cuda.set_device(0)\n",
    "    #     torch.backends.cudnn.benchmark=True\n",
    "    # convert all dataset to cuda tensor to be able to use the GPU\n",
    "    dtype = torch.FloatTensor\n",
    "    X = np.array(X)\n",
    "    x_test = np.array(x_test)\n",
    "    Y = np.array(Y)\n",
    "    y_test = np.array(y_test)\n",
    "    X_train = torch.tensor(X, device=device).type(dtype)\n",
    "    x_test = torch.tensor(x_test, device=device).type(dtype)\n",
    "\n",
    "\n",
    "    Y_train = torch.tensor(Y, device=device).type(dtype)\n",
    "    y_test = torch.tensor(y_test, device=device).type(dtype)\n",
    "\n",
    "    Y_train = torch.unsqueeze(Y_train, 1)\n",
    "    y_test = torch.unsqueeze(y_test, 1)\n",
    "    return X_train, x_test, Y_train, y_test\n",
    "\n",
    "from torch.utils.data.dataloader import DataLoader\n",
    "X_train, x_test, Y_train, y_test = convert_to_tensor(X_train, Y_train, x_test, y_test)"
   ]
  },
  {
   "cell_type": "code",
   "execution_count": 39,
   "metadata": {},
   "outputs": [],
   "source": [
    "class Classifier(nn.Module):\n",
    "    def __init__(self):\n",
    "        super().__init__()\n",
    "        \n",
    "        self.fc1 = nn.Linear(start, 200)\n",
    "        self.relu1 = nn.ReLU()\n",
    "        self.dout = nn.Dropout(0.3)\n",
    "                \n",
    "        self.fc2 = nn.Linear(200, 200)\n",
    "        self.prelu = nn.PReLU(1)\n",
    "        self.dout = nn.Dropout(0.3)\n",
    "        \n",
    "        self.fc6 = nn.Linear(200, 100)\n",
    "        self.prelu = nn.PReLU(1)\n",
    "        \n",
    "        self.out = nn.Linear(100, 1)\n",
    "        self.out_act = nn.Sigmoid()\n",
    "        \n",
    "    def forward(self, input_):\n",
    "        a1 = self.fc1(input_)\n",
    "        h1 = self.relu1(a1)\n",
    "        dout = self.dout(h1)\n",
    "        \n",
    "        a2 = self.fc2(dout)\n",
    "        h2 = self.prelu(a2)\n",
    "        dout = self.dout(h2)\n",
    "        \n",
    "        a6 = self.fc6(dout)\n",
    "        h6 = self.prelu(a6)\n",
    "        \n",
    "        a7 = self.out(h6)\n",
    "        \n",
    "        y = self.out_act(a7)\n",
    "        return y"
   ]
  },
  {
   "cell_type": "code",
   "execution_count": 40,
   "metadata": {},
   "outputs": [],
   "source": [
    "start = len(X.columns)"
   ]
  },
  {
   "cell_type": "code",
   "execution_count": 41,
   "metadata": {},
   "outputs": [],
   "source": [
    "model = Classifier()\n",
    "criterion = nn.BCELoss() ## loss function for binary classification\n",
    "optimizer = optim.Adam(model.parameters(), lr=0.001) ## adam optimizer"
   ]
  },
  {
   "cell_type": "code",
   "execution_count": null,
   "metadata": {},
   "outputs": [
    {
     "name": "stdout",
     "output_type": "stream",
     "text": [
      "model saved at epoch 0, with loss 0.6966571807861328\n",
      "epoch 0, loss 0.6966571807861328\n",
      "model saved at epoch 1, with loss 0.6966571807861328\n",
      "model saved at epoch 2, with loss 0.6966571807861328\n",
      "model saved at epoch 3, with loss 0.6966571807861328\n",
      "model saved at epoch 4, with loss 0.6966571807861328\n",
      "model saved at epoch 5, with loss 0.6966571807861328\n",
      "model saved at epoch 6, with loss 0.6966571807861328\n",
      "model saved at epoch 7, with loss 0.6966571807861328\n",
      "model saved at epoch 8, with loss 0.6966571807861328\n",
      "model saved at epoch 9, with loss 0.6966571807861328\n",
      "model saved at epoch 10, with loss 0.6966571807861328\n",
      "model saved at epoch 11, with loss 0.6966571807861328\n",
      "model saved at epoch 12, with loss 0.6966571807861328\n",
      "model saved at epoch 13, with loss 0.6966571807861328\n",
      "model saved at epoch 14, with loss 0.6966571807861328\n",
      "model saved at epoch 15, with loss 0.6966571807861328\n",
      "model saved at epoch 16, with loss 0.6966571807861328\n",
      "model saved at epoch 17, with loss 0.6966571807861328\n",
      "model saved at epoch 18, with loss 0.6966571807861328\n",
      "model saved at epoch 19, with loss 0.6966571807861328\n",
      "model saved at epoch 20, with loss 0.6966571807861328\n",
      "model saved at epoch 21, with loss 0.6966571807861328\n",
      "model saved at epoch 22, with loss 0.6966571807861328\n",
      "model saved at epoch 23, with loss 0.6966571807861328\n",
      "model saved at epoch 24, with loss 0.6966571807861328\n",
      "model saved at epoch 25, with loss 0.6966571807861328\n",
      "model saved at epoch 26, with loss 0.6966571807861328\n",
      "model saved at epoch 27, with loss 0.6966571807861328\n",
      "model saved at epoch 28, with loss 0.6966571807861328\n",
      "model saved at epoch 29, with loss 0.6966571807861328\n",
      "model saved at epoch 30, with loss 0.6966571807861328\n",
      "model saved at epoch 31, with loss 0.6966571807861328\n",
      "model saved at epoch 32, with loss 0.6966571807861328\n",
      "model saved at epoch 33, with loss 0.6966571807861328\n",
      "model saved at epoch 34, with loss 0.6966571807861328\n",
      "model saved at epoch 35, with loss 0.6966571807861328\n",
      "model saved at epoch 36, with loss 0.6966571807861328\n",
      "model saved at epoch 37, with loss 0.6966571807861328\n",
      "model saved at epoch 38, with loss 0.6966571807861328\n",
      "model saved at epoch 39, with loss 0.6966571807861328\n",
      "model saved at epoch 40, with loss 0.6966571807861328\n",
      "model saved at epoch 41, with loss 0.6966571807861328\n",
      "model saved at epoch 42, with loss 0.6966571807861328\n",
      "model saved at epoch 43, with loss 0.6966571807861328\n",
      "model saved at epoch 44, with loss 0.6966571807861328\n",
      "model saved at epoch 45, with loss 0.6966571807861328\n",
      "model saved at epoch 46, with loss 0.6966571807861328\n",
      "model saved at epoch 47, with loss 0.6966571807861328\n",
      "model saved at epoch 48, with loss 0.6966571807861328\n",
      "model saved at epoch 49, with loss 0.6966571807861328\n",
      "model saved at epoch 50, with loss 0.6966571807861328\n",
      "model saved at epoch 51, with loss 0.6966571807861328\n",
      "model saved at epoch 52, with loss 0.6966571807861328\n",
      "model saved at epoch 53, with loss 0.6966571807861328\n",
      "model saved at epoch 54, with loss 0.6966571807861328\n",
      "model saved at epoch 55, with loss 0.6966571807861328\n",
      "model saved at epoch 56, with loss 0.6966571807861328\n",
      "model saved at epoch 57, with loss 0.6966571807861328\n",
      "model saved at epoch 58, with loss 0.6966571807861328\n",
      "model saved at epoch 59, with loss 0.6966571807861328\n",
      "model saved at epoch 60, with loss 0.6966571807861328\n",
      "model saved at epoch 61, with loss 0.6966571807861328\n",
      "model saved at epoch 62, with loss 0.6966571807861328\n",
      "model saved at epoch 63, with loss 0.6966571807861328\n",
      "model saved at epoch 64, with loss 0.6966571807861328\n",
      "model saved at epoch 65, with loss 0.6966571807861328\n",
      "model saved at epoch 66, with loss 0.6966571807861328\n",
      "model saved at epoch 67, with loss 0.6966571807861328\n",
      "model saved at epoch 68, with loss 0.6966571807861328\n",
      "model saved at epoch 69, with loss 0.6966571807861328\n",
      "model saved at epoch 70, with loss 0.6966571807861328\n",
      "model saved at epoch 71, with loss 0.6966571807861328\n",
      "model saved at epoch 72, with loss 0.6966571807861328\n",
      "model saved at epoch 73, with loss 0.6966571807861328\n",
      "model saved at epoch 74, with loss 0.6966571807861328\n",
      "model saved at epoch 75, with loss 0.6966571807861328\n",
      "model saved at epoch 76, with loss 0.6966571807861328\n",
      "model saved at epoch 77, with loss 0.6966571807861328\n",
      "model saved at epoch 78, with loss 0.6966571807861328\n",
      "model saved at epoch 79, with loss 0.6966571807861328\n",
      "model saved at epoch 80, with loss 0.6966571807861328\n",
      "model saved at epoch 81, with loss 0.6966571807861328\n",
      "model saved at epoch 82, with loss 0.6966571807861328\n",
      "model saved at epoch 83, with loss 0.6966571807861328\n",
      "model saved at epoch 84, with loss 0.6966571807861328\n",
      "model saved at epoch 85, with loss 0.6966571807861328\n",
      "model saved at epoch 86, with loss 0.6966571807861328\n",
      "model saved at epoch 87, with loss 0.6966571807861328\n"
     ]
    }
   ],
   "source": [
    "# torch.backends.cudnn.benchmark=True\n",
    "n_epochs = 5000\n",
    "e_losses = []\n",
    "former_loss = 9999999999999999999999999999\n",
    "\n",
    "for epoch in range(n_epochs):\n",
    "    \n",
    "    # forward pass\n",
    "    outputs = model.forward(X_train)\n",
    "\n",
    "    # calculate loss (MSE)\n",
    "    loss = criterion(outputs, Y_train)\n",
    "    e_losses.append(loss.data)\n",
    "\n",
    "    # compute gradients\n",
    "    loss.backward()\n",
    "    \n",
    "    # perform one step in the oposite direction to the gradient (update weights)\n",
    "    optimizer.step()\n",
    "    \n",
    "    # clear gradient values after weights are updated\n",
    "    optimizer.zero_grad()\n",
    "    \n",
    "    if loss <= min(e_losses):\n",
    "        torch.save(model.state_dict(), '.\\models\\model_pytorch.pt')\n",
    "        print('model saved at epoch {}, with loss {}'.format(epoch, loss.item()))\n",
    "        last_epoch = epoch\n",
    "        last_loss = loss.item()\n",
    "    \n",
    "    if epoch % 100 == 0:\n",
    "        print('epoch {}, loss {}'.format(epoch, loss.item()))\n",
    "#         current_loss = loss.item()\n",
    "#         if former_loss - current_loss < 0:\n",
    "#             print('early stopping at epoch {}, model saved at epoch {}, with loss {}'.format(epoch, last_epoch, last_loss))\n",
    "#             break\n",
    "#         else:\n",
    "#             former_loss = current_loss\n",
    "\n"
   ]
  },
  {
   "cell_type": "code",
   "execution_count": 44,
   "metadata": {},
   "outputs": [
    {
     "data": {
      "text/plain": [
       "[<matplotlib.lines.Line2D at 0x1a881817470>]"
      ]
     },
     "execution_count": 44,
     "metadata": {},
     "output_type": "execute_result"
    },
    {
     "data": {
      "image/png": "[encoded data removed]",
      "text/plain": [
       "<Figure size 432x288 with 1 Axes>"
      ]
     },
     "metadata": {},
     "output_type": "display_data"
    }
   ],
   "source": [
    "import matplotlib.pyplot as plt\n",
    "%matplotlib inline\n",
    "\n",
    "plt.style.use(['dark_background'])        \n",
    "plt.plot(e_losses)"
   ]
  },
  {
   "cell_type": "code",
   "execution_count": 45,
   "metadata": {},
   "outputs": [
    {
     "data": {
      "text/plain": [
       "Classifier(\n",
       "  (fc1): Linear(in_features=826, out_features=200, bias=True)\n",
       "  (relu1): ReLU()\n",
       "  (dout): Dropout(p=0.3, inplace=False)\n",
       "  (fc2): Linear(in_features=200, out_features=200, bias=True)\n",
       "  (prelu): PReLU(num_parameters=1)\n",
       "  (fc6): Linear(in_features=200, out_features=100, bias=True)\n",
       "  (out): Linear(in_features=100, out_features=1, bias=True)\n",
       "  (out_act): Sigmoid()\n",
       ")"
      ]
     },
     "execution_count": 45,
     "metadata": {},
     "output_type": "execute_result"
    }
   ],
   "source": [
    "model = Classifier()\n",
    "#model.load_state_dict(torch.load(r'.\\models\\model_pytorch.pt'))\n",
    "model.eval()"
   ]
  },
  {
   "cell_type": "code",
   "execution_count": 46,
   "metadata": {},
   "outputs": [
    {
     "name": "stderr",
     "output_type": "stream",
     "text": [
      "C:\\Users\\gbsegura\\AppData\\Local\\Continuum\\anaconda3\\lib\\site-packages\\ipykernel_launcher.py:6: UserWarning: To copy construct from a tensor, it is recommended to use sourceTensor.clone().detach() or sourceTensor.clone().detach().requires_grad_(True), rather than torch.tensor(sourceTensor).\n",
      "  \n"
     ]
    },
    {
     "name": "stdout",
     "output_type": "stream",
     "text": [
      "\n",
      "\n",
      "accuracy is 0.4473769143475862\n",
      "precision is 0.44102545339236277\n",
      "recall is 0.8330300168167891\n",
      "auc is 0.48119720133419525\n",
      "f1-score is 0.5767212644136458\n"
     ]
    },
    {
     "name": "stderr",
     "output_type": "stream",
     "text": [
      "C:\\Users\\gbsegura\\AppData\\Local\\Continuum\\anaconda3\\lib\\site-packages\\ipykernel_launcher.py:6: UserWarning: To copy construct from a tensor, it is recommended to use sourceTensor.clone().detach() or sourceTensor.clone().detach().requires_grad_(True), rather than torch.tensor(sourceTensor).\n",
      "  \n"
     ]
    },
    {
     "name": "stdout",
     "output_type": "stream",
     "text": [
      "\n",
      "\n",
      "accuracy is 0.44765444437503904\n",
      "precision is 0.4417023143577931\n",
      "recall is 0.8334023178807947\n",
      "auc is 0.48096322948029\n",
      "f1-score is 0.5773890601476809\n"
     ]
    }
   ],
   "source": [
    "\n",
    "def predict_new_data(x_test, y_test, model):\n",
    "    # switch to evaluation mode\n",
    "    model = model.eval()\n",
    "    dtype = torch.FloatTensor\n",
    "\n",
    "    x_test = torch.tensor(x_test).type(dtype)\n",
    "    with torch.no_grad():\n",
    "        y_pred_prob = model.forward(x_test).cpu().numpy()\n",
    "\n",
    "    y_pred = y_pred_prob >= 0.5\n",
    "    y_pred = y_pred.astype(int)\n",
    "    y_test = y_test.cpu().numpy()\n",
    "    accuracy = metrics.accuracy_score(y_pred, y_test).astype(str)\n",
    "    print('\\n\\naccuracy is ' + accuracy)\n",
    "\n",
    "    precision = metrics.precision_score(y_test, y_pred).astype(str)\n",
    "    print('precision is ' + precision)\n",
    "    recall = metrics.recall_score(y_test, y_pred).astype(str)\n",
    "    print('recall is ' + recall)\n",
    "    auc = metrics.roc_auc_score(np.asarray(y_test), y_pred).astype(str)\n",
    "    print('auc is ' + auc)\n",
    "\n",
    "    f1 = 2*((precision.astype(np.float64)*recall.astype(np.float64))/(precision.astype(np.float64)+recall.astype(np.float64)))\n",
    "    print('f1-score is ' + f1.astype(str))\n",
    "    \n",
    "    return y_pred, y_pred_prob\n",
    "\n",
    "y_pred_train, y_pred_train_prob = predict_new_data(X_train, Y_train, model)\n",
    "y_pred_test, y_pred_test_prob= predict_new_data(x_test, y_test, model)"
   ]
  },
  {
   "cell_type": "code",
   "execution_count": 47,
   "metadata": {},
   "outputs": [
    {
     "data": {
      "image/png": "[encoded data removed]",
      "text/plain": [
       "<Figure size 432x288 with 1 Axes>"
      ]
     },
     "metadata": {},
     "output_type": "display_data"
    },
    {
     "name": "stdout",
     "output_type": "stream",
     "text": [
      "mean for red 0.5105012766259686\n",
      "mean for blue 0.5092261874385204\n"
     ]
    }
   ],
   "source": [
    "import seaborn as sns\n",
    "import matplotlib.pyplot as plt\n",
    "from matplotlib.pyplot import figure\n",
    "\n",
    "figure(num=None, figsize=(12, 10))\n",
    "%matplotlib inline\n",
    "\n",
    "Y_train_pd = Y_train.cpu().numpy()\n",
    "preds = pd.DataFrame({'target':pd.Series(map(lambda x: x[0], Y_train_pd)), 'predicted':pd.Series(map(lambda x: x[0], y_pred_train_prob))})\n",
    "\n",
    "plt.style.use(['dark_background'])\n",
    "plot = sns.distplot(preds['predicted'][preds['target']==0], hist = False, kde = True,\n",
    "                 kde_kws = {'shade': True, 'linewidth': 1}, color='red')\n",
    "plot = sns.distplot(preds['predicted'][preds['target']==1], hist = False, kde = True,\n",
    "                 kde_kws = {'shade': True, 'linewidth': 1}, color='blue')\n",
    "plt.title('predicted for Train')\n",
    "plt.show(plot)\n",
    "print('mean for red '+str(preds['predicted'][preds['target']==0].mean()))\n",
    "print('mean for blue '+str(preds['predicted'][preds['target']==1].mean()))"
   ]
  },
  {
   "cell_type": "code",
   "execution_count": null,
   "metadata": {},
   "outputs": [],
   "source": []
  }
 ],
 "metadata": {
  "kernelspec": {
   "display_name": "Python 3",
   "language": "python",
   "name": "python3"
  },
  "language_info": {
   "codemirror_mode": {
    "name": "ipython",
    "version": 3
   },
   "file_extension": ".py",
   "mimetype": "text/x-python",
   "name": "python",
   "nbconvert_exporter": "python",
   "pygments_lexer": "ipython3",
   "version": "3.7.3"
  }
 },
 "nbformat": 4,
 "nbformat_minor": 4
}
