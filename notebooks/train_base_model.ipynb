{
 "cells": [
  {
   "cell_type": "code",
   "execution_count": null,
   "metadata": {},
   "outputs": [],
   "source": [
    "# !pip install lazypredict"
   ]
  },
  {
   "cell_type": "code",
   "execution_count": 5,
   "metadata": {},
   "outputs": [],
   "source": [
    "import pandas as pd\n",
    "import numpy as np\n",
    "import os\n",
    "from sklearn import metrics\n",
    "from sklearn import preprocessing\n",
    "from sklearn.model_selection import train_test_split\n",
    "from lazypredict.Supervised import LazyClassifier"
   ]
  },
  {
   "cell_type": "code",
   "execution_count": 6,
   "metadata": {},
   "outputs": [],
   "source": [
    "os.chdir(r'C:/Users/gbsegura/Documents/AMPD-Projects/archive/nba-shots-streamlit-app') \n",
    "X_train = pd.read_pickle('./data/X_train.pkl')\n",
    "Y_train = pd.read_pickle('./data/Y_train.pkl')\n",
    "x_test = pd.read_pickle('./data/x_test.pkl')\n",
    "y_test = pd.read_pickle('./data/y_test.pkl')"
   ]
  },
  {
   "cell_type": "code",
   "execution_count": 7,
   "metadata": {},
   "outputs": [],
   "source": [
    "data = pd.concat([X_train, Y_train], axis=1)\n",
    "data = data.rename(columns={'labels':'target'})"
   ]
  },
  {
   "cell_type": "code",
   "execution_count": null,
   "metadata": {},
   "outputs": [
    {
     "name": "stderr",
     "output_type": "stream",
     "text": [
      "  0%|          | 0/28 [00:00<?, ?it/s]"
     ]
    },
    {
     "name": "stdout",
     "output_type": "stream",
     "text": [
      "{'Model': 'AdaBoostClassifier', 'Accuracy': 0.6087825598101068, 'Balanced Accuracy': 0.592253190438863, 'ROC AUC': 0.5922531904388629, 'F1 Score': 0.5957729705059768, 'Time taken': 13.450282573699951}\n"
     ]
    },
    {
     "name": "stderr",
     "output_type": "stream",
     "text": [
      "  4%|▎         | 1/28 [00:13<06:03, 13.45s/it]"
     ]
    },
    {
     "name": "stdout",
     "output_type": "stream",
     "text": [
      "{'Model': 'BaggingClassifier', 'Accuracy': 0.5770816415766131, 'Balanced Accuracy': 0.5605256844564751, 'ROC AUC': 0.5605256844564751, 'F1 Score': 0.5634782583757014, 'Time taken': 10.578200340270996}\n"
     ]
    },
    {
     "name": "stderr",
     "output_type": "stream",
     "text": [
      "  7%|▋         | 2/28 [00:24<05:27, 12.59s/it]"
     ]
    },
    {
     "name": "stdout",
     "output_type": "stream",
     "text": [
      "{'Model': 'BernoulliNB', 'Accuracy': 0.5797051658442126, 'Balanced Accuracy': 0.5736149806814921, 'ROC AUC': 0.573614980681492, 'F1 Score': 0.5784840074106488, 'Time taken': 0.4930086135864258}\n"
     ]
    },
    {
     "name": "stderr",
     "output_type": "stream",
     "text": [
      " 11%|█         | 3/28 [00:24<03:44,  8.96s/it]"
     ]
    },
    {
     "name": "stdout",
     "output_type": "stream",
     "text": [
      "{'Model': 'CalibratedClassifierCV', 'Accuracy': 0.6032856518208508, 'Balanced Accuracy': 0.591889086517032, 'ROC AUC': 0.591889086517032, 'F1 Score': 0.5973572870871995, 'Time taken': 80.19254183769226}\n"
     ]
    },
    {
     "name": "stderr",
     "output_type": "stream",
     "text": [
      " 14%|█▍        | 4/28 [01:44<12:08, 30.33s/it]"
     ]
    },
    {
     "name": "stdout",
     "output_type": "stream",
     "text": [
      "{'Model': 'CheckingClassifier', 'Accuracy': 0.5472546692485477, 'Balanced Accuracy': 0.5, 'ROC AUC': 0.5, 'F1 Score': 0.3871213691793723, 'Time taken': 0.26400017738342285}\n"
     ]
    },
    {
     "name": "stderr",
     "output_type": "stream",
     "text": [
      " 18%|█▊        | 5/28 [01:44<08:10, 21.31s/it]"
     ]
    },
    {
     "name": "stdout",
     "output_type": "stream",
     "text": [
      "{'Model': 'DecisionTreeClassifier', 'Accuracy': 0.5403835342619776, 'Balanced Accuracy': 0.536753511763074, 'ROC AUC': 0.5367535117630741, 'F1 Score': 0.5406053815116606, 'Time taken': 1.8580353260040283}\n"
     ]
    },
    {
     "name": "stderr",
     "output_type": "stream",
     "text": [
      " 21%|██▏       | 6/28 [01:47<05:41, 15.52s/it]"
     ]
    },
    {
     "name": "stdout",
     "output_type": "stream",
     "text": [
      "{'Model': 'DummyClassifier', 'Accuracy': 0.5095883565494409, 'Balanced Accuracy': 0.5049421589648384, 'ROC AUC': 0.5049421589648384, 'F1 Score': 0.5094745090659845, 'Time taken': 1.435025930404663}\n"
     ]
    },
    {
     "name": "stderr",
     "output_type": "stream",
     "text": [
      " 25%|██▌       | 7/28 [01:48<03:57, 11.30s/it]"
     ]
    },
    {
     "name": "stdout",
     "output_type": "stream",
     "text": [
      "{'Model': 'ExtraTreeClassifier', 'Accuracy': 0.5428196639390342, 'Balanced Accuracy': 0.5387767566500442, 'ROC AUC': 0.5387767566500442, 'F1 Score': 0.542854757168042, 'Time taken': 0.6740047931671143}\n"
     ]
    },
    {
     "name": "stderr",
     "output_type": "stream",
     "text": [
      " 29%|██▊       | 8/28 [01:49<02:42,  8.11s/it]"
     ]
    },
    {
     "name": "stdout",
     "output_type": "stream",
     "text": [
      "{'Model': 'ExtraTreesClassifier', 'Accuracy': 0.5769567118495846, 'Balanced Accuracy': 0.5606021572249884, 'ROC AUC': 0.5606021572249884, 'F1 Score': 0.5637036930585871, 'Time taken': 3.5630693435668945}\n"
     ]
    },
    {
     "name": "stderr",
     "output_type": "stream",
     "text": [
      " 32%|███▏      | 9/28 [01:52<02:08,  6.75s/it]"
     ]
    },
    {
     "name": "stdout",
     "output_type": "stream",
     "text": [
      "{'Model': 'GaussianNB', 'Accuracy': 0.5725841714035855, 'Balanced Accuracy': 0.5732859910833004, 'ROC AUC': 0.5732859910833004, 'F1 Score': 0.5735405765504775, 'Time taken': 0.5600087642669678}\n"
     ]
    },
    {
     "name": "stderr",
     "output_type": "stream",
     "text": [
      " 36%|███▌      | 10/28 [01:53<01:28,  4.89s/it]"
     ]
    },
    {
     "name": "stdout",
     "output_type": "stream",
     "text": [
      "{'Model': 'KNeighborsClassifier', 'Accuracy': 0.5655568742582298, 'Balanced Accuracy': 0.5582222927002144, 'ROC AUC': 0.5582222927002144, 'F1 Score': 0.5634910990828335, 'Time taken': 18.93136501312256}\n"
     ]
    },
    {
     "name": "stderr",
     "output_type": "stream",
     "text": [
      " 46%|████▋     | 13/28 [02:12<01:08,  4.56s/it]"
     ]
    },
    {
     "name": "stdout",
     "output_type": "stream",
     "text": [
      "{'Model': 'LinearDiscriminantAnalysis', 'Accuracy': 0.6024111437316509, 'Balanced Accuracy': 0.5910424372211485, 'ROC AUC': 0.5910424372211484, 'F1 Score': 0.5965102230697406, 'Time taken': 0.9870176315307617}\n"
     ]
    },
    {
     "name": "stderr",
     "output_type": "stream",
     "text": [
      " 50%|█████     | 14/28 [02:13<00:48,  3.49s/it]"
     ]
    },
    {
     "name": "stdout",
     "output_type": "stream",
     "text": [
      "{'Model': 'LinearSVC', 'Accuracy': 0.6032544193890936, 'Balanced Accuracy': 0.5918724643985876, 'ROC AUC': 0.5918724643985878, 'F1 Score': 0.5973424478319596, 'Time taken': 47.60591673851013}\n"
     ]
    },
    {
     "name": "stderr",
     "output_type": "stream",
     "text": [
      " 54%|█████▎    | 15/28 [03:01<03:37, 16.72s/it]"
     ]
    },
    {
     "name": "stdout",
     "output_type": "stream",
     "text": [
      "{'Model': 'LogisticRegression', 'Accuracy': 0.6031294896620651, 'Balanced Accuracy': 0.5917106684299498, 'ROC AUC': 0.5917106684299499, 'F1 Score': 0.5971751427017907, 'Time taken': 1.1820220947265625}\n"
     ]
    },
    {
     "name": "stderr",
     "output_type": "stream",
     "text": [
      " 57%|█████▋    | 16/28 [03:02<02:24, 12.06s/it]"
     ]
    },
    {
     "name": "stdout",
     "output_type": "stream",
     "text": [
      "{'Model': 'NearestCentroid', 'Accuracy': 0.5710225498157286, 'Balanced Accuracy': 0.5752307159488935, 'ROC AUC': 0.5752307159488935, 'F1 Score': 0.5713799281101838, 'Time taken': 0.36800599098205566}\n"
     ]
    },
    {
     "name": "stderr",
     "output_type": "stream",
     "text": [
      " 61%|██████    | 17/28 [03:02<01:34,  8.56s/it]"
     ]
    }
   ],
   "source": [
    "clf = LazyClassifier(verbose=1, ignore_warnings=True, custom_metric=None)\n",
    "models,predictions = clf.fit(X_train, x_test, Y_train, y_test)\n",
    "\n",
    "print(models)"
   ]
  },
  {
   "cell_type": "code",
   "execution_count": null,
   "metadata": {},
   "outputs": [],
   "source": []
  }
 ],
 "metadata": {
  "kernelspec": {
   "display_name": "Python 3",
   "language": "python",
   "name": "python3"
  },
  "language_info": {
   "codemirror_mode": {
    "name": "ipython",
    "version": 3
   },
   "file_extension": ".py",
   "mimetype": "text/x-python",
   "name": "python",
   "nbconvert_exporter": "python",
   "pygments_lexer": "ipython3",
   "version": "3.7.3"
  }
 },
 "nbformat": 4,
 "nbformat_minor": 4
}
