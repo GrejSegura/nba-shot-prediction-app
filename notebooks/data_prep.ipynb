{
 "cells": [
  {
   "cell_type": "code",
   "execution_count": 1,
   "metadata": {},
   "outputs": [],
   "source": [
    "import pandas as pd\n",
    "import numpy as np\n",
    "import os\n",
    "from datetime import datetime"
   ]
  },
  {
   "cell_type": "code",
   "execution_count": 2,
   "metadata": {},
   "outputs": [],
   "source": [
    "os.chdir(r'C:/Users/gbsegura/Documents/AMPD-Projects/archive/nba-shots-streamlit-app') \n",
    "data = pd.read_csv('./data/shot_logs.csv', sep = ',')"
   ]
  },
  {
   "cell_type": "code",
   "execution_count": 3,
   "metadata": {},
   "outputs": [
    {
     "data": {
      "text/html": [
       "<div>\n",
       "<style scoped>\n",
       "    .dataframe tbody tr th:only-of-type {\n",
       "        vertical-align: middle;\n",
       "    }\n",
       "\n",
       "    .dataframe tbody tr th {\n",
       "        vertical-align: top;\n",
       "    }\n",
       "\n",
       "    .dataframe thead th {\n",
       "        text-align: right;\n",
       "    }\n",
       "</style>\n",
       "<table border=\"1\" class=\"dataframe\">\n",
       "  <thead>\n",
       "    <tr style=\"text-align: right;\">\n",
       "      <th></th>\n",
       "      <th>GAME_ID</th>\n",
       "      <th>MATCHUP</th>\n",
       "      <th>LOCATION</th>\n",
       "      <th>W</th>\n",
       "      <th>FINAL_MARGIN</th>\n",
       "      <th>SHOT_NUMBER</th>\n",
       "      <th>PERIOD</th>\n",
       "      <th>GAME_CLOCK</th>\n",
       "      <th>SHOT_CLOCK</th>\n",
       "      <th>DRIBBLES</th>\n",
       "      <th>...</th>\n",
       "      <th>SHOT_DIST</th>\n",
       "      <th>PTS_TYPE</th>\n",
       "      <th>SHOT_RESULT</th>\n",
       "      <th>CLOSEST_DEFENDER</th>\n",
       "      <th>CLOSEST_DEFENDER_PLAYER_ID</th>\n",
       "      <th>CLOSE_DEF_DIST</th>\n",
       "      <th>FGM</th>\n",
       "      <th>PTS</th>\n",
       "      <th>player_name</th>\n",
       "      <th>player_id</th>\n",
       "    </tr>\n",
       "  </thead>\n",
       "  <tbody>\n",
       "    <tr>\n",
       "      <th>0</th>\n",
       "      <td>21400899</td>\n",
       "      <td>MAR 04, 2015 - CHA @ BKN</td>\n",
       "      <td>A</td>\n",
       "      <td>W</td>\n",
       "      <td>24</td>\n",
       "      <td>1</td>\n",
       "      <td>1</td>\n",
       "      <td>1:09</td>\n",
       "      <td>10.8</td>\n",
       "      <td>2</td>\n",
       "      <td>...</td>\n",
       "      <td>7.7</td>\n",
       "      <td>2</td>\n",
       "      <td>made</td>\n",
       "      <td>Anderson, Alan</td>\n",
       "      <td>101187</td>\n",
       "      <td>1.3</td>\n",
       "      <td>1</td>\n",
       "      <td>2</td>\n",
       "      <td>brian roberts</td>\n",
       "      <td>203148</td>\n",
       "    </tr>\n",
       "    <tr>\n",
       "      <th>1</th>\n",
       "      <td>21400899</td>\n",
       "      <td>MAR 04, 2015 - CHA @ BKN</td>\n",
       "      <td>A</td>\n",
       "      <td>W</td>\n",
       "      <td>24</td>\n",
       "      <td>2</td>\n",
       "      <td>1</td>\n",
       "      <td>0:14</td>\n",
       "      <td>3.4</td>\n",
       "      <td>0</td>\n",
       "      <td>...</td>\n",
       "      <td>28.2</td>\n",
       "      <td>3</td>\n",
       "      <td>missed</td>\n",
       "      <td>Bogdanovic, Bojan</td>\n",
       "      <td>202711</td>\n",
       "      <td>6.1</td>\n",
       "      <td>0</td>\n",
       "      <td>0</td>\n",
       "      <td>brian roberts</td>\n",
       "      <td>203148</td>\n",
       "    </tr>\n",
       "    <tr>\n",
       "      <th>2</th>\n",
       "      <td>21400899</td>\n",
       "      <td>MAR 04, 2015 - CHA @ BKN</td>\n",
       "      <td>A</td>\n",
       "      <td>W</td>\n",
       "      <td>24</td>\n",
       "      <td>3</td>\n",
       "      <td>1</td>\n",
       "      <td>0:00</td>\n",
       "      <td>NaN</td>\n",
       "      <td>3</td>\n",
       "      <td>...</td>\n",
       "      <td>10.1</td>\n",
       "      <td>2</td>\n",
       "      <td>missed</td>\n",
       "      <td>Bogdanovic, Bojan</td>\n",
       "      <td>202711</td>\n",
       "      <td>0.9</td>\n",
       "      <td>0</td>\n",
       "      <td>0</td>\n",
       "      <td>brian roberts</td>\n",
       "      <td>203148</td>\n",
       "    </tr>\n",
       "    <tr>\n",
       "      <th>3</th>\n",
       "      <td>21400899</td>\n",
       "      <td>MAR 04, 2015 - CHA @ BKN</td>\n",
       "      <td>A</td>\n",
       "      <td>W</td>\n",
       "      <td>24</td>\n",
       "      <td>4</td>\n",
       "      <td>2</td>\n",
       "      <td>11:47</td>\n",
       "      <td>10.3</td>\n",
       "      <td>2</td>\n",
       "      <td>...</td>\n",
       "      <td>17.2</td>\n",
       "      <td>2</td>\n",
       "      <td>missed</td>\n",
       "      <td>Brown, Markel</td>\n",
       "      <td>203900</td>\n",
       "      <td>3.4</td>\n",
       "      <td>0</td>\n",
       "      <td>0</td>\n",
       "      <td>brian roberts</td>\n",
       "      <td>203148</td>\n",
       "    </tr>\n",
       "    <tr>\n",
       "      <th>4</th>\n",
       "      <td>21400899</td>\n",
       "      <td>MAR 04, 2015 - CHA @ BKN</td>\n",
       "      <td>A</td>\n",
       "      <td>W</td>\n",
       "      <td>24</td>\n",
       "      <td>5</td>\n",
       "      <td>2</td>\n",
       "      <td>10:34</td>\n",
       "      <td>10.9</td>\n",
       "      <td>2</td>\n",
       "      <td>...</td>\n",
       "      <td>3.7</td>\n",
       "      <td>2</td>\n",
       "      <td>missed</td>\n",
       "      <td>Young, Thaddeus</td>\n",
       "      <td>201152</td>\n",
       "      <td>1.1</td>\n",
       "      <td>0</td>\n",
       "      <td>0</td>\n",
       "      <td>brian roberts</td>\n",
       "      <td>203148</td>\n",
       "    </tr>\n",
       "  </tbody>\n",
       "</table>\n",
       "<p>5 rows × 21 columns</p>\n",
       "</div>"
      ],
      "text/plain": [
       "    GAME_ID                   MATCHUP LOCATION  W  FINAL_MARGIN  SHOT_NUMBER  \\\n",
       "0  21400899  MAR 04, 2015 - CHA @ BKN        A  W            24            1   \n",
       "1  21400899  MAR 04, 2015 - CHA @ BKN        A  W            24            2   \n",
       "2  21400899  MAR 04, 2015 - CHA @ BKN        A  W            24            3   \n",
       "3  21400899  MAR 04, 2015 - CHA @ BKN        A  W            24            4   \n",
       "4  21400899  MAR 04, 2015 - CHA @ BKN        A  W            24            5   \n",
       "\n",
       "   PERIOD GAME_CLOCK  SHOT_CLOCK  DRIBBLES  ...  SHOT_DIST  PTS_TYPE  \\\n",
       "0       1       1:09        10.8         2  ...        7.7         2   \n",
       "1       1       0:14         3.4         0  ...       28.2         3   \n",
       "2       1       0:00         NaN         3  ...       10.1         2   \n",
       "3       2      11:47        10.3         2  ...       17.2         2   \n",
       "4       2      10:34        10.9         2  ...        3.7         2   \n",
       "\n",
       "   SHOT_RESULT   CLOSEST_DEFENDER CLOSEST_DEFENDER_PLAYER_ID  CLOSE_DEF_DIST  \\\n",
       "0         made     Anderson, Alan                     101187             1.3   \n",
       "1       missed  Bogdanovic, Bojan                     202711             6.1   \n",
       "2       missed  Bogdanovic, Bojan                     202711             0.9   \n",
       "3       missed      Brown, Markel                     203900             3.4   \n",
       "4       missed    Young, Thaddeus                     201152             1.1   \n",
       "\n",
       "   FGM  PTS    player_name player_id  \n",
       "0    1    2  brian roberts    203148  \n",
       "1    0    0  brian roberts    203148  \n",
       "2    0    0  brian roberts    203148  \n",
       "3    0    0  brian roberts    203148  \n",
       "4    0    0  brian roberts    203148  \n",
       "\n",
       "[5 rows x 21 columns]"
      ]
     },
     "execution_count": 3,
     "metadata": {},
     "output_type": "execute_result"
    }
   ],
   "source": [
    "data.head()"
   ]
  },
  {
   "cell_type": "code",
   "execution_count": 4,
   "metadata": {},
   "outputs": [
    {
     "data": {
      "text/html": [
       "<div>\n",
       "<style scoped>\n",
       "    .dataframe tbody tr th:only-of-type {\n",
       "        vertical-align: middle;\n",
       "    }\n",
       "\n",
       "    .dataframe tbody tr th {\n",
       "        vertical-align: top;\n",
       "    }\n",
       "\n",
       "    .dataframe thead th {\n",
       "        text-align: right;\n",
       "    }\n",
       "</style>\n",
       "<table border=\"1\" class=\"dataframe\">\n",
       "  <thead>\n",
       "    <tr style=\"text-align: right;\">\n",
       "      <th></th>\n",
       "      <th>GAME_ID</th>\n",
       "      <th>FINAL_MARGIN</th>\n",
       "      <th>SHOT_NUMBER</th>\n",
       "      <th>PERIOD</th>\n",
       "      <th>SHOT_CLOCK</th>\n",
       "      <th>DRIBBLES</th>\n",
       "      <th>TOUCH_TIME</th>\n",
       "      <th>SHOT_DIST</th>\n",
       "      <th>PTS_TYPE</th>\n",
       "      <th>CLOSEST_DEFENDER_PLAYER_ID</th>\n",
       "      <th>CLOSE_DEF_DIST</th>\n",
       "      <th>FGM</th>\n",
       "      <th>PTS</th>\n",
       "      <th>player_id</th>\n",
       "    </tr>\n",
       "  </thead>\n",
       "  <tbody>\n",
       "    <tr>\n",
       "      <th>count</th>\n",
       "      <td>1.280690e+05</td>\n",
       "      <td>128069.000000</td>\n",
       "      <td>128069.000000</td>\n",
       "      <td>128069.000000</td>\n",
       "      <td>122502.000000</td>\n",
       "      <td>128069.000000</td>\n",
       "      <td>128069.000000</td>\n",
       "      <td>128069.000000</td>\n",
       "      <td>128069.000000</td>\n",
       "      <td>128069.000000</td>\n",
       "      <td>128069.000000</td>\n",
       "      <td>128069.000000</td>\n",
       "      <td>128069.000000</td>\n",
       "      <td>128069.000000</td>\n",
       "    </tr>\n",
       "    <tr>\n",
       "      <th>mean</th>\n",
       "      <td>2.140045e+07</td>\n",
       "      <td>0.208723</td>\n",
       "      <td>6.506899</td>\n",
       "      <td>2.469427</td>\n",
       "      <td>12.453344</td>\n",
       "      <td>2.023355</td>\n",
       "      <td>2.765901</td>\n",
       "      <td>13.571504</td>\n",
       "      <td>2.264670</td>\n",
       "      <td>159038.487284</td>\n",
       "      <td>4.123015</td>\n",
       "      <td>0.452139</td>\n",
       "      <td>0.997314</td>\n",
       "      <td>157238.251247</td>\n",
       "    </tr>\n",
       "    <tr>\n",
       "      <th>std</th>\n",
       "      <td>2.578773e+02</td>\n",
       "      <td>13.233267</td>\n",
       "      <td>4.713260</td>\n",
       "      <td>1.139919</td>\n",
       "      <td>5.763265</td>\n",
       "      <td>3.477760</td>\n",
       "      <td>3.043682</td>\n",
       "      <td>8.888964</td>\n",
       "      <td>0.441159</td>\n",
       "      <td>78791.172947</td>\n",
       "      <td>2.756446</td>\n",
       "      <td>0.497706</td>\n",
       "      <td>1.130978</td>\n",
       "      <td>79362.389336</td>\n",
       "    </tr>\n",
       "    <tr>\n",
       "      <th>min</th>\n",
       "      <td>2.140000e+07</td>\n",
       "      <td>-53.000000</td>\n",
       "      <td>1.000000</td>\n",
       "      <td>1.000000</td>\n",
       "      <td>0.000000</td>\n",
       "      <td>0.000000</td>\n",
       "      <td>-163.600000</td>\n",
       "      <td>0.000000</td>\n",
       "      <td>2.000000</td>\n",
       "      <td>708.000000</td>\n",
       "      <td>0.000000</td>\n",
       "      <td>0.000000</td>\n",
       "      <td>0.000000</td>\n",
       "      <td>708.000000</td>\n",
       "    </tr>\n",
       "    <tr>\n",
       "      <th>25%</th>\n",
       "      <td>2.140023e+07</td>\n",
       "      <td>-8.000000</td>\n",
       "      <td>3.000000</td>\n",
       "      <td>1.000000</td>\n",
       "      <td>8.200000</td>\n",
       "      <td>0.000000</td>\n",
       "      <td>0.900000</td>\n",
       "      <td>4.700000</td>\n",
       "      <td>2.000000</td>\n",
       "      <td>101249.000000</td>\n",
       "      <td>2.300000</td>\n",
       "      <td>0.000000</td>\n",
       "      <td>0.000000</td>\n",
       "      <td>101162.000000</td>\n",
       "    </tr>\n",
       "    <tr>\n",
       "      <th>50%</th>\n",
       "      <td>2.140045e+07</td>\n",
       "      <td>1.000000</td>\n",
       "      <td>5.000000</td>\n",
       "      <td>2.000000</td>\n",
       "      <td>12.300000</td>\n",
       "      <td>1.000000</td>\n",
       "      <td>1.600000</td>\n",
       "      <td>13.700000</td>\n",
       "      <td>2.000000</td>\n",
       "      <td>201949.000000</td>\n",
       "      <td>3.700000</td>\n",
       "      <td>0.000000</td>\n",
       "      <td>0.000000</td>\n",
       "      <td>201939.000000</td>\n",
       "    </tr>\n",
       "    <tr>\n",
       "      <th>75%</th>\n",
       "      <td>2.140067e+07</td>\n",
       "      <td>9.000000</td>\n",
       "      <td>9.000000</td>\n",
       "      <td>3.000000</td>\n",
       "      <td>16.675000</td>\n",
       "      <td>2.000000</td>\n",
       "      <td>3.700000</td>\n",
       "      <td>22.500000</td>\n",
       "      <td>3.000000</td>\n",
       "      <td>203079.000000</td>\n",
       "      <td>5.300000</td>\n",
       "      <td>1.000000</td>\n",
       "      <td>2.000000</td>\n",
       "      <td>202704.000000</td>\n",
       "    </tr>\n",
       "    <tr>\n",
       "      <th>max</th>\n",
       "      <td>2.140091e+07</td>\n",
       "      <td>53.000000</td>\n",
       "      <td>38.000000</td>\n",
       "      <td>7.000000</td>\n",
       "      <td>24.000000</td>\n",
       "      <td>32.000000</td>\n",
       "      <td>24.900000</td>\n",
       "      <td>47.200000</td>\n",
       "      <td>3.000000</td>\n",
       "      <td>530027.000000</td>\n",
       "      <td>53.200000</td>\n",
       "      <td>1.000000</td>\n",
       "      <td>3.000000</td>\n",
       "      <td>204060.000000</td>\n",
       "    </tr>\n",
       "  </tbody>\n",
       "</table>\n",
       "</div>"
      ],
      "text/plain": [
       "            GAME_ID   FINAL_MARGIN    SHOT_NUMBER         PERIOD  \\\n",
       "count  1.280690e+05  128069.000000  128069.000000  128069.000000   \n",
       "mean   2.140045e+07       0.208723       6.506899       2.469427   \n",
       "std    2.578773e+02      13.233267       4.713260       1.139919   \n",
       "min    2.140000e+07     -53.000000       1.000000       1.000000   \n",
       "25%    2.140023e+07      -8.000000       3.000000       1.000000   \n",
       "50%    2.140045e+07       1.000000       5.000000       2.000000   \n",
       "75%    2.140067e+07       9.000000       9.000000       3.000000   \n",
       "max    2.140091e+07      53.000000      38.000000       7.000000   \n",
       "\n",
       "          SHOT_CLOCK       DRIBBLES     TOUCH_TIME      SHOT_DIST  \\\n",
       "count  122502.000000  128069.000000  128069.000000  128069.000000   \n",
       "mean       12.453344       2.023355       2.765901      13.571504   \n",
       "std         5.763265       3.477760       3.043682       8.888964   \n",
       "min         0.000000       0.000000    -163.600000       0.000000   \n",
       "25%         8.200000       0.000000       0.900000       4.700000   \n",
       "50%        12.300000       1.000000       1.600000      13.700000   \n",
       "75%        16.675000       2.000000       3.700000      22.500000   \n",
       "max        24.000000      32.000000      24.900000      47.200000   \n",
       "\n",
       "            PTS_TYPE  CLOSEST_DEFENDER_PLAYER_ID  CLOSE_DEF_DIST  \\\n",
       "count  128069.000000               128069.000000   128069.000000   \n",
       "mean        2.264670               159038.487284        4.123015   \n",
       "std         0.441159                78791.172947        2.756446   \n",
       "min         2.000000                  708.000000        0.000000   \n",
       "25%         2.000000               101249.000000        2.300000   \n",
       "50%         2.000000               201949.000000        3.700000   \n",
       "75%         3.000000               203079.000000        5.300000   \n",
       "max         3.000000               530027.000000       53.200000   \n",
       "\n",
       "                 FGM            PTS      player_id  \n",
       "count  128069.000000  128069.000000  128069.000000  \n",
       "mean        0.452139       0.997314  157238.251247  \n",
       "std         0.497706       1.130978   79362.389336  \n",
       "min         0.000000       0.000000     708.000000  \n",
       "25%         0.000000       0.000000  101162.000000  \n",
       "50%         0.000000       0.000000  201939.000000  \n",
       "75%         1.000000       2.000000  202704.000000  \n",
       "max         1.000000       3.000000  204060.000000  "
      ]
     },
     "execution_count": 4,
     "metadata": {},
     "output_type": "execute_result"
    }
   ],
   "source": [
    "data.describe()"
   ]
  },
  {
   "cell_type": "code",
   "execution_count": 5,
   "metadata": {},
   "outputs": [
    {
     "name": "stdout",
     "output_type": "stream",
     "text": [
      "<class 'pandas.core.frame.DataFrame'>\n",
      "RangeIndex: 128069 entries, 0 to 128068\n",
      "Data columns (total 21 columns):\n",
      "GAME_ID                       128069 non-null int64\n",
      "MATCHUP                       128069 non-null object\n",
      "LOCATION                      128069 non-null object\n",
      "W                             128069 non-null object\n",
      "FINAL_MARGIN                  128069 non-null int64\n",
      "SHOT_NUMBER                   128069 non-null int64\n",
      "PERIOD                        128069 non-null int64\n",
      "GAME_CLOCK                    128069 non-null object\n",
      "SHOT_CLOCK                    122502 non-null float64\n",
      "DRIBBLES                      128069 non-null int64\n",
      "TOUCH_TIME                    128069 non-null float64\n",
      "SHOT_DIST                     128069 non-null float64\n",
      "PTS_TYPE                      128069 non-null int64\n",
      "SHOT_RESULT                   128069 non-null object\n",
      "CLOSEST_DEFENDER              128069 non-null object\n",
      "CLOSEST_DEFENDER_PLAYER_ID    128069 non-null int64\n",
      "CLOSE_DEF_DIST                128069 non-null float64\n",
      "FGM                           128069 non-null int64\n",
      "PTS                           128069 non-null int64\n",
      "player_name                   128069 non-null object\n",
      "player_id                     128069 non-null int64\n",
      "dtypes: float64(4), int64(10), object(7)\n",
      "memory usage: 20.5+ MB\n"
     ]
    }
   ],
   "source": [
    "data.info()"
   ]
  },
  {
   "cell_type": "code",
   "execution_count": 6,
   "metadata": {},
   "outputs": [
    {
     "data": {
      "text/plain": [
       "GAME_ID                          0\n",
       "MATCHUP                          0\n",
       "LOCATION                         0\n",
       "W                                0\n",
       "FINAL_MARGIN                     0\n",
       "SHOT_NUMBER                      0\n",
       "PERIOD                           0\n",
       "GAME_CLOCK                       0\n",
       "SHOT_CLOCK                    5567\n",
       "DRIBBLES                         0\n",
       "TOUCH_TIME                       0\n",
       "SHOT_DIST                        0\n",
       "PTS_TYPE                         0\n",
       "SHOT_RESULT                      0\n",
       "CLOSEST_DEFENDER                 0\n",
       "CLOSEST_DEFENDER_PLAYER_ID       0\n",
       "CLOSE_DEF_DIST                   0\n",
       "FGM                              0\n",
       "PTS                              0\n",
       "player_name                      0\n",
       "player_id                        0\n",
       "dtype: int64"
      ]
     },
     "execution_count": 6,
     "metadata": {},
     "output_type": "execute_result"
    }
   ],
   "source": [
    "data.isna().sum()"
   ]
  },
  {
   "cell_type": "code",
   "execution_count": 7,
   "metadata": {},
   "outputs": [
    {
     "data": {
      "text/plain": [
       "0     1:09\n",
       "1     0:14\n",
       "2     0:00\n",
       "3    11:47\n",
       "4    10:34\n",
       "Name: GAME_CLOCK, dtype: object"
      ]
     },
     "execution_count": 7,
     "metadata": {},
     "output_type": "execute_result"
    }
   ],
   "source": [
    "data['GAME_CLOCK'].head()"
   ]
  },
  {
   "cell_type": "code",
   "execution_count": 8,
   "metadata": {},
   "outputs": [],
   "source": [
    "data['GAME_CLOCK'] = data['GAME_CLOCK'].apply(lambda x: (datetime.strptime(x, '%M:%S').minute*60)+datetime.strptime(x, '%M:%S').second)"
   ]
  },
  {
   "cell_type": "code",
   "execution_count": 9,
   "metadata": {},
   "outputs": [
    {
     "data": {
      "image/png": "[encoded data removed]",
      "text/plain": [
       "<Figure size 432x288 with 1 Axes>"
      ]
     },
     "metadata": {
      "needs_background": "light"
     },
     "output_type": "display_data"
    }
   ],
   "source": [
    "import matplotlib.pyplot as plt\n",
    "from matplotlib.pyplot import figure\n",
    "import seaborn as sns\n",
    "\n",
    "figure(num=None, figsize=(12, 10))\n",
    "%matplotlib inline\n",
    "plot = sns.distplot(data['SHOT_CLOCK'][pd.notnull(data['SHOT_CLOCK'])])\n",
    "plt.show(plot)"
   ]
  },
  {
   "cell_type": "code",
   "execution_count": 10,
   "metadata": {},
   "outputs": [
    {
     "name": "stderr",
     "output_type": "stream",
     "text": [
      "C:\\Users\\gbsegura\\AppData\\Local\\Continuum\\anaconda3\\lib\\site-packages\\ipykernel_launcher.py:1: SettingWithCopyWarning: \n",
      "A value is trying to be set on a copy of a slice from a DataFrame\n",
      "\n",
      "See the caveats in the documentation: http://pandas.pydata.org/pandas-docs/stable/user_guide/indexing.html#returning-a-view-versus-a-copy\n",
      "  \"\"\"Entry point for launching an IPython kernel.\n",
      "C:\\Users\\gbsegura\\AppData\\Local\\Continuum\\anaconda3\\lib\\site-packages\\ipykernel_launcher.py:2: SettingWithCopyWarning: \n",
      "A value is trying to be set on a copy of a slice from a DataFrame\n",
      "\n",
      "See the caveats in the documentation: http://pandas.pydata.org/pandas-docs/stable/user_guide/indexing.html#returning-a-view-versus-a-copy\n",
      "  \n"
     ]
    }
   ],
   "source": [
    "data['SHOT_CLOCK'][pd.isna(data['SHOT_CLOCK'])] = data['GAME_CLOCK'][pd.isna(data['SHOT_CLOCK'])]\n",
    "data['SHOT_CLOCK'][data['SHOT_CLOCK']>24] = 0"
   ]
  },
  {
   "cell_type": "code",
   "execution_count": 11,
   "metadata": {},
   "outputs": [
    {
     "data": {
      "image/png": "[encoded data removed]",
      "text/plain": [
       "<Figure size 432x288 with 1 Axes>"
      ]
     },
     "metadata": {
      "needs_background": "light"
     },
     "output_type": "display_data"
    }
   ],
   "source": [
    "figure(num=None, figsize=(12, 10))\n",
    "%matplotlib inline\n",
    "plot = sns.distplot(data['SHOT_CLOCK'][data['FGM']==0],  hist = False, kde = True,\n",
    "                     kde_kws = {'shade': True, 'linewidth': 1}, color='red')\n",
    "plot = sns.distplot(data['SHOT_CLOCK'][data['FGM']==1], hist = False, kde = True,\n",
    "                     kde_kws = {'shade': True, 'linewidth': 1}, color='blue')\n",
    "\n",
    "plt.title('SHOT_CLOCK')\n",
    "plt.show(plot)"
   ]
  },
  {
   "cell_type": "code",
   "execution_count": 12,
   "metadata": {},
   "outputs": [
    {
     "data": {
      "image/png": "[encoded data removed]",
      "text/plain": [
       "<Figure size 432x288 with 1 Axes>"
      ]
     },
     "metadata": {
      "needs_background": "light"
     },
     "output_type": "display_data"
    }
   ],
   "source": [
    "figure(num=None, figsize=(12, 10))\n",
    "%matplotlib inline\n",
    "plot = sns.distplot(data['SHOT_DIST'][data['FGM']==0],  hist = False, kde = True,\n",
    "                     kde_kws = {'shade': True, 'linewidth': 1}, color='red')\n",
    "plot = sns.distplot(data['SHOT_DIST'][data['FGM']==1], hist = False, kde = True,\n",
    "                     kde_kws = {'shade': True, 'linewidth': 1}, color='blue')\n",
    "plt.title('SHOT_DIST')\n",
    "plt.show(plot)"
   ]
  },
  {
   "cell_type": "code",
   "execution_count": 13,
   "metadata": {},
   "outputs": [
    {
     "data": {
      "image/png": "[encoded data removed]",
      "text/plain": [
       "<Figure size 432x288 with 1 Axes>"
      ]
     },
     "metadata": {
      "needs_background": "light"
     },
     "output_type": "display_data"
    }
   ],
   "source": [
    "figure(num=None, figsize=(12, 10))\n",
    "%matplotlib inline\n",
    "plot = sns.distplot(data['GAME_CLOCK'][data['FGM']==0],  hist = False, kde = True,\n",
    "                     kde_kws = {'shade': True, 'linewidth': 1}, color='red')\n",
    "plot = sns.distplot(data['GAME_CLOCK'][data['FGM']==1], hist = False, kde = True,\n",
    "                     kde_kws = {'shade': True, 'linewidth': 1}, color='blue')\n",
    "plt.title('GAME_CLOCK')\n",
    "plt.show(plot)"
   ]
  },
  {
   "cell_type": "code",
   "execution_count": 14,
   "metadata": {},
   "outputs": [
    {
     "data": {
      "image/png": "[encoded data removed]",
      "text/plain": [
       "<Figure size 432x288 with 1 Axes>"
      ]
     },
     "metadata": {
      "needs_background": "light"
     },
     "output_type": "display_data"
    }
   ],
   "source": [
    "figure(num=None, figsize=(12, 10))\n",
    "%matplotlib inline\n",
    "plot = sns.distplot(data['CLOSE_DEF_DIST'][data['FGM']==0],  hist = False, kde = True,\n",
    "                     kde_kws = {'shade': True, 'linewidth': 1}, color='red')\n",
    "plot = sns.distplot(data['CLOSE_DEF_DIST'][data['FGM']==1], hist = False, kde = True,\n",
    "                     kde_kws = {'shade': True, 'linewidth': 1}, color='blue')\n",
    "plt.title('CLOSE_DEF_DIST')\n",
    "plt.show(plot)"
   ]
  },
  {
   "cell_type": "code",
   "execution_count": 15,
   "metadata": {},
   "outputs": [
    {
     "data": {
      "image/png": "[encoded data removed]",
      "text/plain": [
       "<Figure size 432x288 with 1 Axes>"
      ]
     },
     "metadata": {
      "needs_background": "light"
     },
     "output_type": "display_data"
    }
   ],
   "source": [
    "figure(num=None, figsize=(12, 10))\n",
    "%matplotlib inline\n",
    "plot = sns.distplot(data['DRIBBLES'][data['FGM']==0],  hist = False, kde = True,\n",
    "                     kde_kws = {'shade': True, 'linewidth': 1}, color='red')\n",
    "plot = sns.distplot(data['DRIBBLES'][data['FGM']==1], hist = False, kde = True,\n",
    "                     kde_kws = {'shade': True, 'linewidth': 1}, color='blue')\n",
    "plt.title('DRIBBLES')\n",
    "plt.show(plot)"
   ]
  },
  {
   "cell_type": "code",
   "execution_count": 16,
   "metadata": {},
   "outputs": [
    {
     "data": {
      "image/png": "[encoded data removed]",
      "text/plain": [
       "<Figure size 432x288 with 1 Axes>"
      ]
     },
     "metadata": {
      "needs_background": "light"
     },
     "output_type": "display_data"
    }
   ],
   "source": [
    "figure(num=None, figsize=(12, 10))\n",
    "%matplotlib inline\n",
    "plot = sns.distplot(data['TOUCH_TIME'][data['FGM']==0],  hist = False, kde = True,\n",
    "                     kde_kws = {'shade': True, 'linewidth': 1}, color='red')\n",
    "plot = sns.distplot(data['TOUCH_TIME'][data['FGM']==1], hist = False, kde = True,\n",
    "                     kde_kws = {'shade': True, 'linewidth': 1}, color='blue')\n",
    "plt.title('TOUCH_TIME')\n",
    "plt.show(plot)"
   ]
  },
  {
   "cell_type": "code",
   "execution_count": 17,
   "metadata": {},
   "outputs": [
    {
     "data": {
      "image/png": "[encoded data removed]",
      "text/plain": [
       "<Figure size 432x288 with 1 Axes>"
      ]
     },
     "metadata": {
      "needs_background": "light"
     },
     "output_type": "display_data"
    }
   ],
   "source": [
    "figure(num=None, figsize=(12, 10))\n",
    "%matplotlib inline\n",
    "plot = sns.distplot(data['SHOT_NUMBER'][data['FGM']==0],  hist = False, kde = True,\n",
    "                     kde_kws = {'shade': True, 'linewidth': 1}, color='red')\n",
    "plot = sns.distplot(data['SHOT_NUMBER'][data['FGM']==1], hist = False, kde = True,\n",
    "                     kde_kws = {'shade': True, 'linewidth': 1}, color='blue')\n",
    "plt.title('SHOT_NUMBER')\n",
    "plt.show(plot)"
   ]
  },
  {
   "cell_type": "code",
   "execution_count": 18,
   "metadata": {},
   "outputs": [
    {
     "data": {
      "text/plain": [
       "Index(['GAME_ID', 'MATCHUP', 'LOCATION', 'W', 'FINAL_MARGIN', 'SHOT_NUMBER',\n",
       "       'PERIOD', 'GAME_CLOCK', 'SHOT_CLOCK', 'DRIBBLES', 'TOUCH_TIME',\n",
       "       'SHOT_DIST', 'PTS_TYPE', 'SHOT_RESULT', 'CLOSEST_DEFENDER',\n",
       "       'CLOSEST_DEFENDER_PLAYER_ID', 'CLOSE_DEF_DIST', 'FGM', 'PTS',\n",
       "       'player_name', 'player_id'],\n",
       "      dtype='object')"
      ]
     },
     "execution_count": 18,
     "metadata": {},
     "output_type": "execute_result"
    }
   ],
   "source": [
    "data.columns"
   ]
  },
  {
   "cell_type": "code",
   "execution_count": 19,
   "metadata": {},
   "outputs": [],
   "source": [
    "defender = data[['CLOSEST_DEFENDER', 'CLOSEST_DEFENDER_PLAYER_ID']]\n",
    "player = data[['player_name', 'player_id']]"
   ]
  },
  {
   "cell_type": "code",
   "execution_count": 20,
   "metadata": {},
   "outputs": [
    {
     "data": {
      "text/html": [
       "<div>\n",
       "<style scoped>\n",
       "    .dataframe tbody tr th:only-of-type {\n",
       "        vertical-align: middle;\n",
       "    }\n",
       "\n",
       "    .dataframe tbody tr th {\n",
       "        vertical-align: top;\n",
       "    }\n",
       "\n",
       "    .dataframe thead th {\n",
       "        text-align: right;\n",
       "    }\n",
       "</style>\n",
       "<table border=\"1\" class=\"dataframe\">\n",
       "  <thead>\n",
       "    <tr style=\"text-align: right;\">\n",
       "      <th></th>\n",
       "      <th>GAME_ID</th>\n",
       "      <th>MATCHUP</th>\n",
       "      <th>LOCATION</th>\n",
       "      <th>W</th>\n",
       "      <th>FINAL_MARGIN</th>\n",
       "      <th>SHOT_NUMBER</th>\n",
       "      <th>PERIOD</th>\n",
       "      <th>GAME_CLOCK</th>\n",
       "      <th>SHOT_CLOCK</th>\n",
       "      <th>DRIBBLES</th>\n",
       "      <th>...</th>\n",
       "      <th>SHOT_DIST</th>\n",
       "      <th>PTS_TYPE</th>\n",
       "      <th>SHOT_RESULT</th>\n",
       "      <th>CLOSEST_DEFENDER</th>\n",
       "      <th>CLOSEST_DEFENDER_PLAYER_ID</th>\n",
       "      <th>CLOSE_DEF_DIST</th>\n",
       "      <th>FGM</th>\n",
       "      <th>PTS</th>\n",
       "      <th>player_name</th>\n",
       "      <th>player_id</th>\n",
       "    </tr>\n",
       "  </thead>\n",
       "  <tbody>\n",
       "    <tr>\n",
       "      <th>0</th>\n",
       "      <td>21400899</td>\n",
       "      <td>MAR 04, 2015 - CHA @ BKN</td>\n",
       "      <td>A</td>\n",
       "      <td>W</td>\n",
       "      <td>24</td>\n",
       "      <td>1</td>\n",
       "      <td>1</td>\n",
       "      <td>69</td>\n",
       "      <td>10.8</td>\n",
       "      <td>2</td>\n",
       "      <td>...</td>\n",
       "      <td>7.7</td>\n",
       "      <td>2</td>\n",
       "      <td>made</td>\n",
       "      <td>Anderson, Alan</td>\n",
       "      <td>101187</td>\n",
       "      <td>1.3</td>\n",
       "      <td>1</td>\n",
       "      <td>2</td>\n",
       "      <td>brian roberts</td>\n",
       "      <td>203148</td>\n",
       "    </tr>\n",
       "    <tr>\n",
       "      <th>1</th>\n",
       "      <td>21400899</td>\n",
       "      <td>MAR 04, 2015 - CHA @ BKN</td>\n",
       "      <td>A</td>\n",
       "      <td>W</td>\n",
       "      <td>24</td>\n",
       "      <td>2</td>\n",
       "      <td>1</td>\n",
       "      <td>14</td>\n",
       "      <td>3.4</td>\n",
       "      <td>0</td>\n",
       "      <td>...</td>\n",
       "      <td>28.2</td>\n",
       "      <td>3</td>\n",
       "      <td>missed</td>\n",
       "      <td>Bogdanovic, Bojan</td>\n",
       "      <td>202711</td>\n",
       "      <td>6.1</td>\n",
       "      <td>0</td>\n",
       "      <td>0</td>\n",
       "      <td>brian roberts</td>\n",
       "      <td>203148</td>\n",
       "    </tr>\n",
       "    <tr>\n",
       "      <th>2</th>\n",
       "      <td>21400899</td>\n",
       "      <td>MAR 04, 2015 - CHA @ BKN</td>\n",
       "      <td>A</td>\n",
       "      <td>W</td>\n",
       "      <td>24</td>\n",
       "      <td>3</td>\n",
       "      <td>1</td>\n",
       "      <td>0</td>\n",
       "      <td>0.0</td>\n",
       "      <td>3</td>\n",
       "      <td>...</td>\n",
       "      <td>10.1</td>\n",
       "      <td>2</td>\n",
       "      <td>missed</td>\n",
       "      <td>Bogdanovic, Bojan</td>\n",
       "      <td>202711</td>\n",
       "      <td>0.9</td>\n",
       "      <td>0</td>\n",
       "      <td>0</td>\n",
       "      <td>brian roberts</td>\n",
       "      <td>203148</td>\n",
       "    </tr>\n",
       "    <tr>\n",
       "      <th>3</th>\n",
       "      <td>21400899</td>\n",
       "      <td>MAR 04, 2015 - CHA @ BKN</td>\n",
       "      <td>A</td>\n",
       "      <td>W</td>\n",
       "      <td>24</td>\n",
       "      <td>4</td>\n",
       "      <td>2</td>\n",
       "      <td>707</td>\n",
       "      <td>10.3</td>\n",
       "      <td>2</td>\n",
       "      <td>...</td>\n",
       "      <td>17.2</td>\n",
       "      <td>2</td>\n",
       "      <td>missed</td>\n",
       "      <td>Brown, Markel</td>\n",
       "      <td>203900</td>\n",
       "      <td>3.4</td>\n",
       "      <td>0</td>\n",
       "      <td>0</td>\n",
       "      <td>brian roberts</td>\n",
       "      <td>203148</td>\n",
       "    </tr>\n",
       "    <tr>\n",
       "      <th>4</th>\n",
       "      <td>21400899</td>\n",
       "      <td>MAR 04, 2015 - CHA @ BKN</td>\n",
       "      <td>A</td>\n",
       "      <td>W</td>\n",
       "      <td>24</td>\n",
       "      <td>5</td>\n",
       "      <td>2</td>\n",
       "      <td>634</td>\n",
       "      <td>10.9</td>\n",
       "      <td>2</td>\n",
       "      <td>...</td>\n",
       "      <td>3.7</td>\n",
       "      <td>2</td>\n",
       "      <td>missed</td>\n",
       "      <td>Young, Thaddeus</td>\n",
       "      <td>201152</td>\n",
       "      <td>1.1</td>\n",
       "      <td>0</td>\n",
       "      <td>0</td>\n",
       "      <td>brian roberts</td>\n",
       "      <td>203148</td>\n",
       "    </tr>\n",
       "  </tbody>\n",
       "</table>\n",
       "<p>5 rows × 21 columns</p>\n",
       "</div>"
      ],
      "text/plain": [
       "    GAME_ID                   MATCHUP LOCATION  W  FINAL_MARGIN  SHOT_NUMBER  \\\n",
       "0  21400899  MAR 04, 2015 - CHA @ BKN        A  W            24            1   \n",
       "1  21400899  MAR 04, 2015 - CHA @ BKN        A  W            24            2   \n",
       "2  21400899  MAR 04, 2015 - CHA @ BKN        A  W            24            3   \n",
       "3  21400899  MAR 04, 2015 - CHA @ BKN        A  W            24            4   \n",
       "4  21400899  MAR 04, 2015 - CHA @ BKN        A  W            24            5   \n",
       "\n",
       "   PERIOD  GAME_CLOCK  SHOT_CLOCK  DRIBBLES  ...  SHOT_DIST  PTS_TYPE  \\\n",
       "0       1          69        10.8         2  ...        7.7         2   \n",
       "1       1          14         3.4         0  ...       28.2         3   \n",
       "2       1           0         0.0         3  ...       10.1         2   \n",
       "3       2         707        10.3         2  ...       17.2         2   \n",
       "4       2         634        10.9         2  ...        3.7         2   \n",
       "\n",
       "   SHOT_RESULT   CLOSEST_DEFENDER CLOSEST_DEFENDER_PLAYER_ID  CLOSE_DEF_DIST  \\\n",
       "0         made     Anderson, Alan                     101187             1.3   \n",
       "1       missed  Bogdanovic, Bojan                     202711             6.1   \n",
       "2       missed  Bogdanovic, Bojan                     202711             0.9   \n",
       "3       missed      Brown, Markel                     203900             3.4   \n",
       "4       missed    Young, Thaddeus                     201152             1.1   \n",
       "\n",
       "   FGM  PTS    player_name player_id  \n",
       "0    1    2  brian roberts    203148  \n",
       "1    0    0  brian roberts    203148  \n",
       "2    0    0  brian roberts    203148  \n",
       "3    0    0  brian roberts    203148  \n",
       "4    0    0  brian roberts    203148  \n",
       "\n",
       "[5 rows x 21 columns]"
      ]
     },
     "execution_count": 20,
     "metadata": {},
     "output_type": "execute_result"
    }
   ],
   "source": [
    "data[data['LOCATION']=='A'].head()"
   ]
  },
  {
   "cell_type": "code",
   "execution_count": 21,
   "metadata": {},
   "outputs": [
    {
     "name": "stderr",
     "output_type": "stream",
     "text": [
      "C:\\Users\\gbsegura\\AppData\\Local\\Continuum\\anaconda3\\lib\\site-packages\\ipykernel_launcher.py:2: SettingWithCopyWarning: \n",
      "A value is trying to be set on a copy of a slice from a DataFrame\n",
      "\n",
      "See the caveats in the documentation: http://pandas.pydata.org/pandas-docs/stable/user_guide/indexing.html#returning-a-view-versus-a-copy\n",
      "  \n"
     ]
    }
   ],
   "source": [
    "data['TEAM'] = data['MATCHUP'].str[-9:-6]\n",
    "data['TEAM'][data['LOCATION']=='H'] = data['MATCHUP'][data['LOCATION']=='H'].str[-11:-8]"
   ]
  },
  {
   "cell_type": "code",
   "execution_count": 22,
   "metadata": {},
   "outputs": [
    {
     "data": {
      "text/plain": [
       "1    BKN\n",
       "2    BKN\n",
       "3    BKN\n",
       "4    BKN\n",
       "Name: OPPONENT, dtype: object"
      ]
     },
     "execution_count": 22,
     "metadata": {},
     "output_type": "execute_result"
    }
   ],
   "source": [
    "data['OPPONENT'] = data['MATCHUP'].str[-3:]\n",
    "data['OPPONENT'][1:5]"
   ]
  },
  {
   "cell_type": "code",
   "execution_count": 23,
   "metadata": {},
   "outputs": [],
   "source": [
    "excluded_cols = ['GAME_ID', \n",
    "    'W',\n",
    "    'MATCHUP',\n",
    "    'SHOT_RESULT',\n",
    "    'FINAL_MARGIN', \n",
    "    'CLOSEST_DEFENDER', \n",
    "    'PTS',\n",
    "    'player_name']\n",
    "data = data.drop(excluded_cols, axis=1)"
   ]
  },
  {
   "cell_type": "code",
   "execution_count": 24,
   "metadata": {},
   "outputs": [],
   "source": [
    "data['CLOSEST_DEFENDER_PLAYER_ID'] = data['CLOSEST_DEFENDER_PLAYER_ID'].astype(str)+'d'\n",
    "data['player_id'] = data['player_id'].astype(str)+'p'"
   ]
  },
  {
   "cell_type": "code",
   "execution_count": 25,
   "metadata": {},
   "outputs": [
    {
     "data": {
      "text/html": [
       "<div>\n",
       "<style scoped>\n",
       "    .dataframe tbody tr th:only-of-type {\n",
       "        vertical-align: middle;\n",
       "    }\n",
       "\n",
       "    .dataframe tbody tr th {\n",
       "        vertical-align: top;\n",
       "    }\n",
       "\n",
       "    .dataframe thead th {\n",
       "        text-align: right;\n",
       "    }\n",
       "</style>\n",
       "<table border=\"1\" class=\"dataframe\">\n",
       "  <thead>\n",
       "    <tr style=\"text-align: right;\">\n",
       "      <th></th>\n",
       "      <th>LOCATION</th>\n",
       "      <th>SHOT_NUMBER</th>\n",
       "      <th>PERIOD</th>\n",
       "      <th>GAME_CLOCK</th>\n",
       "      <th>SHOT_CLOCK</th>\n",
       "      <th>DRIBBLES</th>\n",
       "      <th>TOUCH_TIME</th>\n",
       "      <th>SHOT_DIST</th>\n",
       "      <th>PTS_TYPE</th>\n",
       "      <th>CLOSEST_DEFENDER_PLAYER_ID</th>\n",
       "      <th>CLOSE_DEF_DIST</th>\n",
       "      <th>FGM</th>\n",
       "      <th>player_id</th>\n",
       "      <th>TEAM</th>\n",
       "      <th>OPPONENT</th>\n",
       "    </tr>\n",
       "  </thead>\n",
       "  <tbody>\n",
       "    <tr>\n",
       "      <th>0</th>\n",
       "      <td>A</td>\n",
       "      <td>1</td>\n",
       "      <td>1</td>\n",
       "      <td>69</td>\n",
       "      <td>10.8</td>\n",
       "      <td>2</td>\n",
       "      <td>1.9</td>\n",
       "      <td>7.7</td>\n",
       "      <td>2</td>\n",
       "      <td>101187d</td>\n",
       "      <td>1.3</td>\n",
       "      <td>1</td>\n",
       "      <td>203148p</td>\n",
       "      <td>CHA</td>\n",
       "      <td>BKN</td>\n",
       "    </tr>\n",
       "    <tr>\n",
       "      <th>1</th>\n",
       "      <td>A</td>\n",
       "      <td>2</td>\n",
       "      <td>1</td>\n",
       "      <td>14</td>\n",
       "      <td>3.4</td>\n",
       "      <td>0</td>\n",
       "      <td>0.8</td>\n",
       "      <td>28.2</td>\n",
       "      <td>3</td>\n",
       "      <td>202711d</td>\n",
       "      <td>6.1</td>\n",
       "      <td>0</td>\n",
       "      <td>203148p</td>\n",
       "      <td>CHA</td>\n",
       "      <td>BKN</td>\n",
       "    </tr>\n",
       "    <tr>\n",
       "      <th>2</th>\n",
       "      <td>A</td>\n",
       "      <td>3</td>\n",
       "      <td>1</td>\n",
       "      <td>0</td>\n",
       "      <td>0.0</td>\n",
       "      <td>3</td>\n",
       "      <td>2.7</td>\n",
       "      <td>10.1</td>\n",
       "      <td>2</td>\n",
       "      <td>202711d</td>\n",
       "      <td>0.9</td>\n",
       "      <td>0</td>\n",
       "      <td>203148p</td>\n",
       "      <td>CHA</td>\n",
       "      <td>BKN</td>\n",
       "    </tr>\n",
       "    <tr>\n",
       "      <th>3</th>\n",
       "      <td>A</td>\n",
       "      <td>4</td>\n",
       "      <td>2</td>\n",
       "      <td>707</td>\n",
       "      <td>10.3</td>\n",
       "      <td>2</td>\n",
       "      <td>1.9</td>\n",
       "      <td>17.2</td>\n",
       "      <td>2</td>\n",
       "      <td>203900d</td>\n",
       "      <td>3.4</td>\n",
       "      <td>0</td>\n",
       "      <td>203148p</td>\n",
       "      <td>CHA</td>\n",
       "      <td>BKN</td>\n",
       "    </tr>\n",
       "    <tr>\n",
       "      <th>4</th>\n",
       "      <td>A</td>\n",
       "      <td>5</td>\n",
       "      <td>2</td>\n",
       "      <td>634</td>\n",
       "      <td>10.9</td>\n",
       "      <td>2</td>\n",
       "      <td>2.7</td>\n",
       "      <td>3.7</td>\n",
       "      <td>2</td>\n",
       "      <td>201152d</td>\n",
       "      <td>1.1</td>\n",
       "      <td>0</td>\n",
       "      <td>203148p</td>\n",
       "      <td>CHA</td>\n",
       "      <td>BKN</td>\n",
       "    </tr>\n",
       "  </tbody>\n",
       "</table>\n",
       "</div>"
      ],
      "text/plain": [
       "  LOCATION  SHOT_NUMBER  PERIOD  GAME_CLOCK  SHOT_CLOCK  DRIBBLES  TOUCH_TIME  \\\n",
       "0        A            1       1          69        10.8         2         1.9   \n",
       "1        A            2       1          14         3.4         0         0.8   \n",
       "2        A            3       1           0         0.0         3         2.7   \n",
       "3        A            4       2         707        10.3         2         1.9   \n",
       "4        A            5       2         634        10.9         2         2.7   \n",
       "\n",
       "   SHOT_DIST  PTS_TYPE CLOSEST_DEFENDER_PLAYER_ID  CLOSE_DEF_DIST  FGM  \\\n",
       "0        7.7         2                    101187d             1.3    1   \n",
       "1       28.2         3                    202711d             6.1    0   \n",
       "2       10.1         2                    202711d             0.9    0   \n",
       "3       17.2         2                    203900d             3.4    0   \n",
       "4        3.7         2                    201152d             1.1    0   \n",
       "\n",
       "  player_id TEAM OPPONENT  \n",
       "0   203148p  CHA      BKN  \n",
       "1   203148p  CHA      BKN  \n",
       "2   203148p  CHA      BKN  \n",
       "3   203148p  CHA      BKN  \n",
       "4   203148p  CHA      BKN  "
      ]
     },
     "execution_count": 25,
     "metadata": {},
     "output_type": "execute_result"
    }
   ],
   "source": [
    "data.head()"
   ]
  },
  {
   "cell_type": "code",
   "execution_count": 26,
   "metadata": {},
   "outputs": [
    {
     "data": {
      "text/html": [
       "<div>\n",
       "<style scoped>\n",
       "    .dataframe tbody tr th:only-of-type {\n",
       "        vertical-align: middle;\n",
       "    }\n",
       "\n",
       "    .dataframe tbody tr th {\n",
       "        vertical-align: top;\n",
       "    }\n",
       "\n",
       "    .dataframe thead th {\n",
       "        text-align: right;\n",
       "    }\n",
       "</style>\n",
       "<table border=\"1\" class=\"dataframe\">\n",
       "  <thead>\n",
       "    <tr style=\"text-align: right;\">\n",
       "      <th></th>\n",
       "      <th>SHOT_NUMBER</th>\n",
       "      <th>PERIOD</th>\n",
       "      <th>GAME_CLOCK</th>\n",
       "      <th>SHOT_CLOCK</th>\n",
       "      <th>DRIBBLES</th>\n",
       "      <th>TOUCH_TIME</th>\n",
       "      <th>SHOT_DIST</th>\n",
       "      <th>PTS_TYPE</th>\n",
       "      <th>CLOSE_DEF_DIST</th>\n",
       "      <th>FGM</th>\n",
       "      <th>...</th>\n",
       "      <th>player_id_2734p</th>\n",
       "      <th>player_id_2736p</th>\n",
       "      <th>player_id_2738p</th>\n",
       "      <th>player_id_2743p</th>\n",
       "      <th>player_id_2744p</th>\n",
       "      <th>player_id_2754p</th>\n",
       "      <th>player_id_2757p</th>\n",
       "      <th>player_id_2772p</th>\n",
       "      <th>player_id_708p</th>\n",
       "      <th>player_id_977p</th>\n",
       "    </tr>\n",
       "  </thead>\n",
       "  <tbody>\n",
       "    <tr>\n",
       "      <th>0</th>\n",
       "      <td>1</td>\n",
       "      <td>1</td>\n",
       "      <td>69</td>\n",
       "      <td>10.8</td>\n",
       "      <td>2</td>\n",
       "      <td>1.9</td>\n",
       "      <td>7.7</td>\n",
       "      <td>2</td>\n",
       "      <td>1.3</td>\n",
       "      <td>1</td>\n",
       "      <td>...</td>\n",
       "      <td>0</td>\n",
       "      <td>0</td>\n",
       "      <td>0</td>\n",
       "      <td>0</td>\n",
       "      <td>0</td>\n",
       "      <td>0</td>\n",
       "      <td>0</td>\n",
       "      <td>0</td>\n",
       "      <td>0</td>\n",
       "      <td>0</td>\n",
       "    </tr>\n",
       "    <tr>\n",
       "      <th>1</th>\n",
       "      <td>2</td>\n",
       "      <td>1</td>\n",
       "      <td>14</td>\n",
       "      <td>3.4</td>\n",
       "      <td>0</td>\n",
       "      <td>0.8</td>\n",
       "      <td>28.2</td>\n",
       "      <td>3</td>\n",
       "      <td>6.1</td>\n",
       "      <td>0</td>\n",
       "      <td>...</td>\n",
       "      <td>0</td>\n",
       "      <td>0</td>\n",
       "      <td>0</td>\n",
       "      <td>0</td>\n",
       "      <td>0</td>\n",
       "      <td>0</td>\n",
       "      <td>0</td>\n",
       "      <td>0</td>\n",
       "      <td>0</td>\n",
       "      <td>0</td>\n",
       "    </tr>\n",
       "    <tr>\n",
       "      <th>2</th>\n",
       "      <td>3</td>\n",
       "      <td>1</td>\n",
       "      <td>0</td>\n",
       "      <td>0.0</td>\n",
       "      <td>3</td>\n",
       "      <td>2.7</td>\n",
       "      <td>10.1</td>\n",
       "      <td>2</td>\n",
       "      <td>0.9</td>\n",
       "      <td>0</td>\n",
       "      <td>...</td>\n",
       "      <td>0</td>\n",
       "      <td>0</td>\n",
       "      <td>0</td>\n",
       "      <td>0</td>\n",
       "      <td>0</td>\n",
       "      <td>0</td>\n",
       "      <td>0</td>\n",
       "      <td>0</td>\n",
       "      <td>0</td>\n",
       "      <td>0</td>\n",
       "    </tr>\n",
       "    <tr>\n",
       "      <th>3</th>\n",
       "      <td>4</td>\n",
       "      <td>2</td>\n",
       "      <td>707</td>\n",
       "      <td>10.3</td>\n",
       "      <td>2</td>\n",
       "      <td>1.9</td>\n",
       "      <td>17.2</td>\n",
       "      <td>2</td>\n",
       "      <td>3.4</td>\n",
       "      <td>0</td>\n",
       "      <td>...</td>\n",
       "      <td>0</td>\n",
       "      <td>0</td>\n",
       "      <td>0</td>\n",
       "      <td>0</td>\n",
       "      <td>0</td>\n",
       "      <td>0</td>\n",
       "      <td>0</td>\n",
       "      <td>0</td>\n",
       "      <td>0</td>\n",
       "      <td>0</td>\n",
       "    </tr>\n",
       "    <tr>\n",
       "      <th>4</th>\n",
       "      <td>5</td>\n",
       "      <td>2</td>\n",
       "      <td>634</td>\n",
       "      <td>10.9</td>\n",
       "      <td>2</td>\n",
       "      <td>2.7</td>\n",
       "      <td>3.7</td>\n",
       "      <td>2</td>\n",
       "      <td>1.1</td>\n",
       "      <td>0</td>\n",
       "      <td>...</td>\n",
       "      <td>0</td>\n",
       "      <td>0</td>\n",
       "      <td>0</td>\n",
       "      <td>0</td>\n",
       "      <td>0</td>\n",
       "      <td>0</td>\n",
       "      <td>0</td>\n",
       "      <td>0</td>\n",
       "      <td>0</td>\n",
       "      <td>0</td>\n",
       "    </tr>\n",
       "  </tbody>\n",
       "</table>\n",
       "<p>5 rows × 827 columns</p>\n",
       "</div>"
      ],
      "text/plain": [
       "   SHOT_NUMBER  PERIOD  GAME_CLOCK  SHOT_CLOCK  DRIBBLES  TOUCH_TIME  \\\n",
       "0            1       1          69        10.8         2         1.9   \n",
       "1            2       1          14         3.4         0         0.8   \n",
       "2            3       1           0         0.0         3         2.7   \n",
       "3            4       2         707        10.3         2         1.9   \n",
       "4            5       2         634        10.9         2         2.7   \n",
       "\n",
       "   SHOT_DIST  PTS_TYPE  CLOSE_DEF_DIST  FGM  ...  player_id_2734p  \\\n",
       "0        7.7         2             1.3    1  ...                0   \n",
       "1       28.2         3             6.1    0  ...                0   \n",
       "2       10.1         2             0.9    0  ...                0   \n",
       "3       17.2         2             3.4    0  ...                0   \n",
       "4        3.7         2             1.1    0  ...                0   \n",
       "\n",
       "   player_id_2736p  player_id_2738p  player_id_2743p  player_id_2744p  \\\n",
       "0                0                0                0                0   \n",
       "1                0                0                0                0   \n",
       "2                0                0                0                0   \n",
       "3                0                0                0                0   \n",
       "4                0                0                0                0   \n",
       "\n",
       "   player_id_2754p  player_id_2757p  player_id_2772p  player_id_708p  \\\n",
       "0                0                0                0               0   \n",
       "1                0                0                0               0   \n",
       "2                0                0                0               0   \n",
       "3                0                0                0               0   \n",
       "4                0                0                0               0   \n",
       "\n",
       "   player_id_977p  \n",
       "0               0  \n",
       "1               0  \n",
       "2               0  \n",
       "3               0  \n",
       "4               0  \n",
       "\n",
       "[5 rows x 827 columns]"
      ]
     },
     "execution_count": 26,
     "metadata": {},
     "output_type": "execute_result"
    }
   ],
   "source": [
    "data = pd.get_dummies(data, prefix=['TEAM', 'OPPONENT', 'LOCATION', 'CLOSEST_DEFENDER_PLAYER_ID', 'player_id'], columns = ['TEAM', 'OPPONENT', 'LOCATION', 'CLOSEST_DEFENDER_PLAYER_ID', 'player_id'], drop_first=False)\n",
    "data.head()"
   ]
  },
  {
   "cell_type": "code",
   "execution_count": 27,
   "metadata": {},
   "outputs": [],
   "source": [
    "defender = defender.drop_duplicates()\n",
    "player = player.drop_duplicates()"
   ]
  },
  {
   "cell_type": "code",
   "execution_count": 28,
   "metadata": {},
   "outputs": [],
   "source": [
    "data.to_pickle('./data/clean.pkl')\n",
    "defender.to_pickle('./data/defender_list.pkl')\n",
    "player.to_pickle('./data/player_list.pkl')"
   ]
  },
  {
   "cell_type": "code",
   "execution_count": 45,
   "metadata": {},
   "outputs": [
    {
     "name": "stdout",
     "output_type": "stream",
     "text": [
      "missed shots 0.4521390812764994\n",
      "made shots 0.5478609187235006\n"
     ]
    }
   ],
   "source": [
    "p = len(data['FGM'][data['FGM']==1])/len(data)\n",
    "print('missed shots {}'.format(p))\n",
    "print('made shots {}'.format(1-p))\n"
   ]
  },
  {
   "cell_type": "code",
   "execution_count": 41,
   "metadata": {},
   "outputs": [
    {
     "data": {
      "image/png": "[encoded data removed]",
      "text/plain": [
       "<Figure size 432x288 with 1 Axes>"
      ]
     },
     "metadata": {
      "needs_background": "light"
     },
     "output_type": "display_data"
    }
   ],
   "source": [
    "figure(num=None, figsize=(12, 10))\n",
    "%matplotlib inline\n",
    "plot = sns.countplot(data['FGM'])\n",
    "plt.title('FGM')\n",
    "plt.show(plot)"
   ]
  },
  {
   "cell_type": "code",
   "execution_count": 46,
   "metadata": {},
   "outputs": [],
   "source": [
    "from sklearn.model_selection import train_test_split"
   ]
  },
  {
   "cell_type": "code",
   "execution_count": 49,
   "metadata": {},
   "outputs": [],
   "source": [
    "# this function creates thesplits the data into 75/25 train/test proportion\n",
    "def split_data(data):\n",
    "    # change the target feature name to labels\n",
    "    data = data.rename(columns={'FGM': 'labels'})\n",
    "    dataX = data.drop(['labels'], axis = 1)\n",
    "    dataY = data['labels']\n",
    "    \n",
    "    # Create train and test dataset\n",
    "    X_train, x_test, Y_train, y_test = train_test_split(dataX, dataY, random_state = 0)\n",
    "    return X_train, x_test, Y_train, y_test\n",
    "\n",
    "X_train, x_test, Y_train, y_test = split_data(data)\n",
    "\n"
   ]
  },
  {
   "cell_type": "code",
   "execution_count": 50,
   "metadata": {},
   "outputs": [
    {
     "name": "stdout",
     "output_type": "stream",
     "text": [
      "There are 96051 rows for training.\n",
      "There are 32018 rows for testing.\n"
     ]
    }
   ],
   "source": [
    "print('There are {} rows for training.'.format(len(X_train)))\n",
    "print('There are {} rows for testing.'.format(len(x_test)))\n",
    "\n",
    "X_train.to_pickle('./data/X_train.pkl')\n",
    "x_test.to_pickle('./data/x_test.pkl')\n",
    "Y_train.to_pickle('./data/Y_train.pkl')\n",
    "y_test.to_pickle('./data/y_test.pkl')"
   ]
  },
  {
   "cell_type": "code",
   "execution_count": null,
   "metadata": {},
   "outputs": [],
   "source": []
  }
 ],
 "metadata": {
  "kernelspec": {
   "display_name": "Python 3",
   "language": "python",
   "name": "python3"
  },
  "language_info": {
   "codemirror_mode": {
    "name": "ipython",
    "version": 3
   },
   "file_extension": ".py",
   "mimetype": "text/x-python",
   "name": "python",
   "nbconvert_exporter": "python",
   "pygments_lexer": "ipython3",
   "version": "3.7.3"
  }
 },
 "nbformat": 4,
 "nbformat_minor": 4
}
